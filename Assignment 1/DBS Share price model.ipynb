{
 "cells": [
  {
   "cell_type": "code",
   "execution_count": 3,
   "id": "ce003f37",
   "metadata": {},
   "outputs": [],
   "source": [
    "import pandas as pd\n",
    "df = pd.read_csv(\"DBS_SingDollar.csv\")"
   ]
  },
  {
   "cell_type": "code",
   "execution_count": 4,
   "id": "1c37e467",
   "metadata": {},
   "outputs": [
    {
     "name": "stdout",
     "output_type": "stream",
     "text": [
      "         SGD\n",
      "0    1.38925\n",
      "1    1.38707\n",
      "2    1.38324\n",
      "3    1.38378\n",
      "4    1.37595\n",
      "..       ...\n",
      "117  1.44655\n",
      "118  1.44814\n",
      "119  1.45018\n",
      "120  1.44954\n",
      "121  1.44766\n",
      "\n",
      "[122 rows x 1 columns]\n"
     ]
    }
   ],
   "source": [
    "X = df.loc[:,[\"SGD\"]]\n",
    "Y = df.loc[:,['DBS']]\n",
    "print(X)\n"
   ]
  },
  {
   "cell_type": "code",
   "execution_count": 6,
   "id": "b93a1cc2",
   "metadata": {},
   "outputs": [],
   "source": [
    "from sklearn import linear_model\n",
    "model = linear_model.LinearRegression()\n",
    "model.fit(X,Y)\n",
    "pred = model.predict(X)"
   ]
  },
  {
   "cell_type": "code",
   "execution_count": 7,
   "id": "88e656cf",
   "metadata": {},
   "outputs": [
    {
     "name": "stdout",
     "output_type": "stream",
     "text": [
      "0.6283698867042165\n"
     ]
    }
   ],
   "source": [
    "from sklearn.metrics import mean_squared_error\n",
    "rmse = mean_squared_error(Y,pred)**0.5\n",
    "print(rmse)\n",
    "#print(rmse/Y.mean(axis=0)*100)"
   ]
  },
  {
   "cell_type": "code",
   "execution_count": 9,
   "id": "780ea4b0",
   "metadata": {},
   "outputs": [
    {
     "data": {
      "text/plain": [
       "array([[-50.60094302]])"
      ]
     },
     "execution_count": 9,
     "metadata": {},
     "output_type": "execute_result"
    }
   ],
   "source": [
    "model.coef_"
   ]
  },
  {
   "cell_type": "code",
   "execution_count": 10,
   "id": "dce4294f",
   "metadata": {},
   "outputs": [
    {
     "data": {
      "text/plain": [
       "array([90.22858515])"
      ]
     },
     "execution_count": 10,
     "metadata": {},
     "output_type": "execute_result"
    }
   ],
   "source": [
    "model.intercept_"
   ]
  }
 ],
 "metadata": {
  "kernelspec": {
   "display_name": "Python 3 (ipykernel)",
   "language": "python",
   "name": "python3"
  },
  "language_info": {
   "codemirror_mode": {
    "name": "ipython",
    "version": 3
   },
   "file_extension": ".py",
   "mimetype": "text/x-python",
   "name": "python",
   "nbconvert_exporter": "python",
   "pygments_lexer": "ipython3",
   "version": "3.9.7"
  }
 },
 "nbformat": 4,
 "nbformat_minor": 5
}
