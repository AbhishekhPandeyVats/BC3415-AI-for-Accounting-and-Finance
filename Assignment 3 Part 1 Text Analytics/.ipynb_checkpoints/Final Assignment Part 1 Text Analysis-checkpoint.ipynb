{
 "cells": [
  {
   "cell_type": "code",
   "execution_count": 1,
   "id": "c4db3d1b",
   "metadata": {},
   "outputs": [],
   "source": [
    "import numpy as np\n",
    "import pandas as pd\n",
    "import seaborn as sb\n",
    "import matplotlib.pyplot as plt"
   ]
  },
  {
   "cell_type": "code",
   "execution_count": 2,
   "id": "7c4ba6e6",
   "metadata": {},
   "outputs": [
    {
     "data": {
      "text/html": [
       "<div>\n",
       "<style scoped>\n",
       "    .dataframe tbody tr th:only-of-type {\n",
       "        vertical-align: middle;\n",
       "    }\n",
       "\n",
       "    .dataframe tbody tr th {\n",
       "        vertical-align: top;\n",
       "    }\n",
       "\n",
       "    .dataframe thead th {\n",
       "        text-align: right;\n",
       "    }\n",
       "</style>\n",
       "<table border=\"1\" class=\"dataframe\">\n",
       "  <thead>\n",
       "    <tr style=\"text-align: right;\">\n",
       "      <th></th>\n",
       "      <th>Category</th>\n",
       "      <th>Message</th>\n",
       "    </tr>\n",
       "  </thead>\n",
       "  <tbody>\n",
       "    <tr>\n",
       "      <th>0</th>\n",
       "      <td>ham</td>\n",
       "      <td>Go until jurong point, crazy.. Available only ...</td>\n",
       "    </tr>\n",
       "    <tr>\n",
       "      <th>1</th>\n",
       "      <td>ham</td>\n",
       "      <td>Ok lar... Joking wif u oni...</td>\n",
       "    </tr>\n",
       "    <tr>\n",
       "      <th>2</th>\n",
       "      <td>spam</td>\n",
       "      <td>Free entry in 2 a wkly comp to win FA Cup fina...</td>\n",
       "    </tr>\n",
       "    <tr>\n",
       "      <th>3</th>\n",
       "      <td>ham</td>\n",
       "      <td>U dun say so early hor... U c already then say...</td>\n",
       "    </tr>\n",
       "    <tr>\n",
       "      <th>4</th>\n",
       "      <td>ham</td>\n",
       "      <td>Nah I don't think he goes to usf, he lives aro...</td>\n",
       "    </tr>\n",
       "  </tbody>\n",
       "</table>\n",
       "</div>"
      ],
      "text/plain": [
       "  Category                                            Message\n",
       "0      ham  Go until jurong point, crazy.. Available only ...\n",
       "1      ham                      Ok lar... Joking wif u oni...\n",
       "2     spam  Free entry in 2 a wkly comp to win FA Cup fina...\n",
       "3      ham  U dun say so early hor... U c already then say...\n",
       "4      ham  Nah I don't think he goes to usf, he lives aro..."
      ]
     },
     "execution_count": 2,
     "metadata": {},
     "output_type": "execute_result"
    }
   ],
   "source": [
    "Originaldata=pd.read_csv(\"spam (Text).csv\")\n",
    "Originaldata.head()"
   ]
  },
  {
   "cell_type": "code",
   "execution_count": 6,
   "id": "6b0d9531",
   "metadata": {},
   "outputs": [
    {
     "name": "stdout",
     "output_type": "stream",
     "text": [
      "Category\n",
      "ham     4825\n",
      "spam     747\n",
      "Name: count, dtype: int64\n"
     ]
    }
   ],
   "source": [
    "print(Originaldata[\"Category\"].value_counts())"
   ]
  },
  {
   "cell_type": "markdown",
   "id": "da372c7e",
   "metadata": {},
   "source": [
    "### Dataset is highly imbalanced"
   ]
  },
  {
   "cell_type": "markdown",
   "id": "1ceabed8",
   "metadata": {},
   "source": [
    "# Data Preprocessing"
   ]
  },
  {
   "cell_type": "code",
   "execution_count": 65,
   "id": "5f58023c",
   "metadata": {},
   "outputs": [],
   "source": [
    "X=Originaldata[\"Message\"]\n",
    "Y=Originaldata[\"Category\"]"
   ]
  },
  {
   "cell_type": "markdown",
   "id": "0aa4b2c0",
   "metadata": {},
   "source": [
    "## Vectorization"
   ]
  },
  {
   "cell_type": "code",
   "execution_count": 66,
   "id": "8358110a",
   "metadata": {},
   "outputs": [],
   "source": [
    "from sklearn.feature_extraction.text import CountVectorizer\n",
    "X_CV = CountVectorizer().fit_transform(X)\n"
   ]
  },
  {
   "cell_type": "markdown",
   "id": "7776bf59",
   "metadata": {},
   "source": [
    "## Splitting the Dataset"
   ]
  },
  {
   "cell_type": "code",
   "execution_count": 67,
   "id": "250adec6",
   "metadata": {},
   "outputs": [],
   "source": [
    "from sklearn.model_selection import train_test_split\n",
    "X_train, X_test, Y_train, Y_test = train_test_split(X_CV, Y)\n"
   ]
  },
  {
   "cell_type": "markdown",
   "id": "3df88121",
   "metadata": {},
   "source": [
    "# Model 1: Logistic Regression"
   ]
  },
  {
   "cell_type": "markdown",
   "id": "1ce2a6b0",
   "metadata": {},
   "source": [
    "## Model without TFIDF"
   ]
  },
  {
   "cell_type": "code",
   "execution_count": 68,
   "id": "c90d948f",
   "metadata": {},
   "outputs": [],
   "source": [
    "from sklearn.linear_model import LogisticRegression\n",
    "from sklearn.metrics import confusion_matrix\n",
    "\n",
    "model = LogisticRegression()\n",
    "model.fit(X_train, Y_train)\n",
    "pred_LR = model.predict(X_test)"
   ]
  },
  {
   "cell_type": "code",
   "execution_count": 69,
   "id": "a8d9c8ef",
   "metadata": {},
   "outputs": [
    {
     "name": "stdout",
     "output_type": "stream",
     "text": [
      "[[1204    3]\n",
      " [  23  163]]\n",
      "Accuracy without TFIDF is  0.9813352476669059\n"
     ]
    }
   ],
   "source": [
    "cm = confusion_matrix(Y_test, pred_LR)\n",
    "print(cm)\n",
    "acc = (cm[0,0] + cm[1,1]) / sum(sum(cm))\n",
    "print('Accuracy without TFIDF is ', acc)"
   ]
  },
  {
   "cell_type": "code",
   "execution_count": 70,
   "id": "31c45c73",
   "metadata": {},
   "outputs": [
    {
     "name": "stdout",
     "output_type": "stream",
     "text": [
      "Accuracy: 0.9813352476669059\n",
      "Classification Report:\n",
      "               precision    recall  f1-score   support\n",
      "\n",
      "         ham       0.98      1.00      0.99      1207\n",
      "        spam       0.98      0.88      0.93       186\n",
      "\n",
      "    accuracy                           0.98      1393\n",
      "   macro avg       0.98      0.94      0.96      1393\n",
      "weighted avg       0.98      0.98      0.98      1393\n",
      "\n",
      "Confusion Matrix:\n",
      " [[1204    3]\n",
      " [  23  163]]\n"
     ]
    },
    {
     "data": {
      "image/png": "[encoded data removed]",
      "text/plain": [
       "<Figure size 432x432 with 1 Axes>"
      ]
     },
     "metadata": {
      "needs_background": "light"
     },
     "output_type": "display_data"
    }
   ],
   "source": [
    "from sklearn.metrics import classification_report, confusion_matrix, accuracy_score\n",
    "\n",
    "# 1. Classification Metrics\n",
    "\n",
    "# Accuracy\n",
    "accuracy = accuracy_score(Y_test, pred_LR)\n",
    "print(\"Accuracy:\", accuracy)\n",
    "\n",
    "# Detailed Classification Report\n",
    "print(\"Classification Report:\\n\", classification_report(Y_test, pred_LR))\n",
    "\n",
    "# Confusion Matrix\n",
    "conf_matrix = confusion_matrix(Y_test, pred_LR)\n",
    "print(\"Confusion Matrix:\\n\", conf_matrix)\n",
    "\n",
    "# Plot Confusion Matrix\n",
    "plt.figure(figsize=(6,6))\n",
    "sb.heatmap(conf_matrix, annot=True, fmt=\"d\", cmap=\"Blues\", cbar=False, xticklabels=[\"False\", \"True\"], yticklabels=[\"False\", \"True\"])\n",
    "plt.ylabel('Actual Label')\n",
    "plt.xlabel('Predicted Label')\n",
    "plt.title('Confusion Matrix')\n",
    "plt.show()"
   ]
  },
  {
   "cell_type": "markdown",
   "id": "fe6bf40e",
   "metadata": {},
   "source": [
    "## Model with TFIDF"
   ]
  },
  {
   "cell_type": "code",
   "execution_count": 71,
   "id": "1d5b1e0a",
   "metadata": {},
   "outputs": [],
   "source": [
    "from sklearn.feature_extraction.text import TfidfVectorizer\n",
    "X_Tfidf = TfidfVectorizer().fit_transform(X)\n",
    "\n",
    "X_train,X_test,Y_train,Y_test = train_test_split(X_Tfidf,Y)\n",
    "\n",
    "model = LogisticRegression()\n",
    "model.fit(X_train, Y_train)\n",
    "pred_LR_TFIDF = model.predict(X_test)"
   ]
  },
  {
   "cell_type": "code",
   "execution_count": 72,
   "id": "eb49bd12",
   "metadata": {},
   "outputs": [
    {
     "name": "stdout",
     "output_type": "stream",
     "text": [
      "[[1177    1]\n",
      " [  63  152]]\n",
      "Accuracy with TFIDF is  0.9540559942569993\n"
     ]
    }
   ],
   "source": [
    "cm=confusion_matrix(Y_test, pred_LR_TFIDF)\n",
    "print(cm)\n",
    "acc=(cm[0,0]+cm[1,1])/sum(sum(cm))\n",
    "print('Accuracy with TFIDF is ',acc)"
   ]
  },
  {
   "cell_type": "code",
   "execution_count": 73,
   "id": "ff691c83",
   "metadata": {},
   "outputs": [
    {
     "name": "stdout",
     "output_type": "stream",
     "text": [
      "Accuracy: 0.9540559942569993\n",
      "Classification Report:\n",
      "               precision    recall  f1-score   support\n",
      "\n",
      "         ham       0.95      1.00      0.97      1178\n",
      "        spam       0.99      0.71      0.83       215\n",
      "\n",
      "    accuracy                           0.95      1393\n",
      "   macro avg       0.97      0.85      0.90      1393\n",
      "weighted avg       0.96      0.95      0.95      1393\n",
      "\n",
      "Confusion Matrix:\n",
      " [[1177    1]\n",
      " [  63  152]]\n"
     ]
    },
    {
     "data": {
      "image/png": "[encoded data removed]",
      "text/plain": [
       "<Figure size 432x432 with 1 Axes>"
      ]
     },
     "metadata": {
      "needs_background": "light"
     },
     "output_type": "display_data"
    }
   ],
   "source": [
    "# 1. Classification Metrics\n",
    "\n",
    "# Accuracy\n",
    "accuracy = accuracy_score(Y_test, pred_LR_TFIDF)\n",
    "print(\"Accuracy:\", accuracy)\n",
    "\n",
    "# Detailed Classification Report\n",
    "print(\"Classification Report:\\n\", classification_report(Y_test, pred_LR_TFIDF))\n",
    "\n",
    "# Confusion Matrix\n",
    "conf_matrix = confusion_matrix(Y_test, pred_LR_TFIDF)\n",
    "print(\"Confusion Matrix:\\n\", conf_matrix)\n",
    "\n",
    "# Plot Confusion Matrix\n",
    "plt.figure(figsize=(6,6))\n",
    "sb.heatmap(conf_matrix, annot=True, fmt=\"d\", cmap=\"Blues\", cbar=False, xticklabels=[\"False\", \"True\"], yticklabels=[\"False\", \"True\"])\n",
    "plt.ylabel('Actual Label')\n",
    "plt.xlabel('Predicted Label')\n",
    "plt.title('Confusion Matrix')\n",
    "plt.show()"
   ]
  },
  {
   "cell_type": "markdown",
   "id": "fe8d49d6",
   "metadata": {},
   "source": [
    "# Model  2: BERT"
   ]
  },
  {
   "cell_type": "code",
   "execution_count": 74,
   "id": "b9a8df39",
   "metadata": {},
   "outputs": [
    {
     "name": "stderr",
     "output_type": "stream",
     "text": [
      "C:\\Users\\abhis\\anaconda3\\lib\\site-packages\\transformers\\tokenization_utils_base.py:1617: FutureWarning: `clean_up_tokenization_spaces` was not set. It will be set to `True` by default. This behavior will be deprecated in transformers v4.45, and will be then set to `False` by default. For more details check this issue: https://github.com/huggingface/transformers/issues/31884\n",
      "  warnings.warn(\n"
     ]
    }
   ],
   "source": [
    "from sentence_transformers import SentenceTransformer\n",
    "model = SentenceTransformer('bert-base-nli-mean-tokens')\n",
    "\n",
    "X_bert = model.encode(X)"
   ]
  },
  {
   "cell_type": "code",
   "execution_count": 75,
   "id": "6015ca52",
   "metadata": {},
   "outputs": [],
   "source": [
    "from sklearn.model_selection import train_test_split\n",
    "X_train, X_test, Y_train, Y_test = train_test_split(X_bert, Y)"
   ]
  },
  {
   "cell_type": "code",
   "execution_count": 76,
   "id": "37ff50b7",
   "metadata": {},
   "outputs": [
    {
     "name": "stdout",
     "output_type": "stream",
     "text": [
      "[[1200    3]\n",
      " [  10  180]]\n",
      "Accuracy using Bert is  0.990667623833453\n"
     ]
    }
   ],
   "source": [
    "from sklearn.linear_model import LogisticRegression\n",
    "from sklearn.metrics import confusion_matrix\n",
    "\n",
    "model = LogisticRegression()\n",
    "model.fit(X_train, Y_train)\n",
    "pred_LR_BERT = model.predict(X_test)\n",
    "cm=confusion_matrix(Y_test, pred_LR_BERT)\n",
    "print(cm)\n",
    "acc=(cm[0,0]+cm[1,1])/sum(sum(cm))\n",
    "print('Accuracy using Bert is ', acc)"
   ]
  },
  {
   "cell_type": "code",
   "execution_count": 77,
   "id": "9afec8a4",
   "metadata": {},
   "outputs": [
    {
     "name": "stdout",
     "output_type": "stream",
     "text": [
      "Accuracy: 0.782483847810481\n",
      "Classification Report:\n",
      "               precision    recall  f1-score   support\n",
      "\n",
      "         ham       0.86      0.89      0.88      1203\n",
      "        spam       0.13      0.11      0.12       190\n",
      "\n",
      "    accuracy                           0.78      1393\n",
      "   macro avg       0.50      0.50      0.50      1393\n",
      "weighted avg       0.76      0.78      0.77      1393\n",
      "\n",
      "Confusion Matrix:\n",
      " [[1070  133]\n",
      " [ 170   20]]\n"
     ]
    },
    {
     "data": {
      "image/png": "[encoded data removed]",
      "text/plain": [
       "<Figure size 432x432 with 1 Axes>"
      ]
     },
     "metadata": {
      "needs_background": "light"
     },
     "output_type": "display_data"
    }
   ],
   "source": [
    "# 1. Classification Metrics\n",
    "\n",
    "# Accuracy\n",
    "accuracy = accuracy_score(Y_test, pred_LR_TFIDF)\n",
    "print(\"Accuracy:\", accuracy)\n",
    "\n",
    "# Detailed Classification Report\n",
    "print(\"Classification Report:\\n\", classification_report(Y_test, pred_LR_TFIDF))\n",
    "\n",
    "# Confusion Matrix\n",
    "conf_matrix = confusion_matrix(Y_test, pred_LR_TFIDF)\n",
    "print(\"Confusion Matrix:\\n\", conf_matrix)\n",
    "\n",
    "# Plot Confusion Matrix\n",
    "plt.figure(figsize=(6,6))\n",
    "sb.heatmap(conf_matrix, annot=True, fmt=\"d\", cmap=\"Blues\", cbar=False, xticklabels=[\"False\", \"True\"], yticklabels=[\"False\", \"True\"])\n",
    "plt.ylabel('Actual Label')\n",
    "plt.xlabel('Predicted Label')\n",
    "plt.title('Confusion Matrix')\n",
    "plt.show()"
   ]
  },
  {
   "cell_type": "code",
   "execution_count": null,
   "id": "07daea72",
   "metadata": {},
   "outputs": [],
   "source": []
  }
 ],
 "metadata": {
  "kernelspec": {
   "display_name": "Python 3 (ipykernel)",
   "language": "python",
   "name": "python3"
  },
  "language_info": {
   "codemirror_mode": {
    "name": "ipython",
    "version": 3
   },
   "file_extension": ".py",
   "mimetype": "text/x-python",
   "name": "python",
   "nbconvert_exporter": "python",
   "pygments_lexer": "ipython3",
   "version": "3.9.7"
  }
 },
 "nbformat": 4,
 "nbformat_minor": 5
}
